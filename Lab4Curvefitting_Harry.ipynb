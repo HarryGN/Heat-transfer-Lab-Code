{
  "nbformat": 4,
  "nbformat_minor": 0,
  "metadata": {
    "colab": {
      "provenance": [],
      "authorship_tag": "ABX9TyMSpjrm504BifKDbyfGWkFn",
      "include_colab_link": true
    },
    "kernelspec": {
      "name": "python3",
      "display_name": "Python 3"
    },
    "language_info": {
      "name": "python"
    }
  },
  "cells": [
    {
      "cell_type": "markdown",
      "metadata": {
        "id": "view-in-github",
        "colab_type": "text"
      },
      "source": [
        "<a href=\"https://colab.research.google.com/github/HarryGN/Heat-transfer-Lab-Code/blob/main/Lab4Curvefitting_Harry.ipynb\" target=\"_parent\"><img src=\"https://colab.research.google.com/assets/colab-badge.svg\" alt=\"Open In Colab\"/></a>"
      ]
    },
    {
      "cell_type": "markdown",
      "source": [
        "\n",
        "\n",
        "```\n",
        "# This is the code for the lumped capacity model curve-fitting for the heat coefficient for the block without insulation. tested h_ss is not the final value, I will perform h_ss by hand in the doc.\n",
        "```\n",
        "\n"
      ],
      "metadata": {
        "id": "CwBfQoqb0_Hb"
      }
    },
    {
      "cell_type": "code",
      "source": [],
      "metadata": {
        "id": "JgVZeqiM2T5Y"
      },
      "execution_count": null,
      "outputs": []
    },
    {
      "cell_type": "code",
      "execution_count": null,
      "metadata": {
        "id": "t-O8t0_VSE49"
      },
      "outputs": [],
      "source": [
        "import numpy as np \n",
        "import matplotlib.pyplot as plt \n",
        "from scipy.optimize import curve_fit\n",
        "import pandas as pd\n",
        "import math"
      ]
    },
    {
      "cell_type": "code",
      "source": [
        "data = pd.read_csv('/content/Lab4.csv',encoding=\"ISO-8859-1\")\n",
        "\n",
        "print(data)"
      ],
      "metadata": {
        "colab": {
          "base_uri": "https://localhost:8080/"
        },
        "id": "k-VwYO4vYb7_",
        "outputId": "b0de6947-8fdd-451b-b9fc-0842e6c49cf6"
      },
      "execution_count": null,
      "outputs": [
        {
          "output_type": "stream",
          "name": "stdout",
          "text": [
            "   T_inf      Beta       v    alpha     k    T_s       h    L     g    Nu_L  \\\n",
            "0     50  0.000005  0.0020  0.00010  0.02  491.8  0.0181  0.5  9.81  0.4527   \n",
            "1    100  0.000002  0.0025  0.00024  0.05  491.5  0.0204  0.5  9.81  0.2043   \n",
            "2    150  0.000001  0.0030  0.00036  0.07  491.2  0.0234  0.5  9.81  0.1675   \n",
            "\n",
            "         Ra_L  \n",
            "0  13543.9313  \n",
            "1   1600.2563  \n",
            "2    387.4042  \n"
          ]
        }
      ]
    },
    {
      "cell_type": "code",
      "source": [],
      "metadata": {
        "id": "qEKptx8fdowM"
      },
      "execution_count": null,
      "outputs": []
    },
    {
      "cell_type": "code",
      "source": [
        "xdata = data[data.columns[9]]\n",
        "print(xdata)"
      ],
      "metadata": {
        "id": "8KpB0vypZ6cJ",
        "colab": {
          "base_uri": "https://localhost:8080/"
        },
        "outputId": "e7b40212-6c75-4dc1-8f9d-e1a6e558905c"
      },
      "execution_count": null,
      "outputs": [
        {
          "output_type": "stream",
          "name": "stdout",
          "text": [
            "0    0.4527\n",
            "1    0.2043\n",
            "2    0.1675\n",
            "Name: Nu_L, dtype: float64\n"
          ]
        }
      ]
    },
    {
      "cell_type": "code",
      "source": [
        "ydata = data[data.columns[10]]\n",
        "print(ydata)"
      ],
      "metadata": {
        "id": "m_7YDpLYaVqB",
        "colab": {
          "base_uri": "https://localhost:8080/"
        },
        "outputId": "7749e853-148d-49ff-c55e-c5ada50d11f1"
      },
      "execution_count": null,
      "outputs": [
        {
          "output_type": "stream",
          "name": "stdout",
          "text": [
            "0    13543.9313\n",
            "1     1600.2563\n",
            "2      387.4042\n",
            "Name: Ra_L, dtype: float64\n"
          ]
        }
      ]
    },
    {
      "cell_type": "code",
      "source": [
        "# Plot the data\n",
        "plt.scatter(xdata, ydata, label='data')"
      ],
      "metadata": {
        "id": "oJyB574vqy7t",
        "colab": {
          "base_uri": "https://localhost:8080/",
          "height": 448
        },
        "outputId": "b31e89a8-066f-42b8-d508-0b1c58098ff7"
      },
      "execution_count": null,
      "outputs": [
        {
          "output_type": "execute_result",
          "data": {
            "text/plain": [
              "<matplotlib.collections.PathCollection at 0x7f83346d86d0>"
            ]
          },
          "metadata": {},
          "execution_count": 5
        },
        {
          "output_type": "display_data",
          "data": {
            "text/plain": [
              "<Figure size 640x480 with 1 Axes>"
            ],
            "image/png": "[encoded data removed]"
          },
          "metadata": {}
        }
      ]
    },
    {
      "cell_type": "code",
      "source": [
        "def func(Ra, b, a_ln):\n",
        "    return b*Ra + a_ln"
      ],
      "metadata": {
        "id": "3OS_gHs_t_oO"
      },
      "execution_count": null,
      "outputs": []
    },
    {
      "cell_type": "code",
      "source": [
        "Nu = np.log(xdata)\n",
        "Ra =np.log(ydata)\n",
        "# Plot the data\n",
        "plt.scatter(Ra, Nu, label='data in ln')\n",
        "\n",
        "\n",
        "# Fit for the parameters h of the function func:\n",
        "popt, pcov = curve_fit(func, Ra, Nu)\n",
        "\n",
        "b, a_ln = popt\n",
        "plt.plot(Ra, func (Ra,*popt), 'r-',)\n",
        "print('ln_Nu = %.5f * ln_Ra + %.5f' % (b, a_ln))\n",
        "\n",
        "# '''\n",
        "# Constrain the fitting to the region of 0 <= h <= 50:\n",
        "# '''\n",
        "\n",
        "# popt, pcov = curve_fit(func, xdata, ydata, bounds=(0, 50. ))\n",
        "# popt\n",
        "\n",
        "plt.xlabel('ln(Ra)')\n",
        "plt.ylabel('ln(Nu)')\n",
        "plt.legend(fontsize= 16)"
      ],
      "metadata": {
        "id": "d9igvu7BTkFD",
        "colab": {
          "base_uri": "https://localhost:8080/",
          "height": 485
        },
        "outputId": "f4daa5d6-deba-4933-c3c9-c0f9b592a723"
      },
      "execution_count": null,
      "outputs": [
        {
          "output_type": "stream",
          "name": "stdout",
          "text": [
            "ln_Nu = 0.28714 * ln_Ra + -3.57630\n"
          ]
        },
        {
          "output_type": "execute_result",
          "data": {
            "text/plain": [
              "<matplotlib.legend.Legend at 0x7f832bf9e3a0>"
            ]
          },
          "metadata": {},
          "execution_count": 15
        },
        {
          "output_type": "display_data",
          "data": {
            "text/plain": [
              "<Figure size 640x480 with 1 Axes>"
            ],
            "image/png": "[encoded data removed]"
          },
          "metadata": {}
        }
      ]
    },
    {
      "cell_type": "code",
      "source": [],
      "metadata": {
        "id": "9jRH0EnJO6_Q"
      },
      "execution_count": null,
      "outputs": []
    },
    {
      "cell_type": "code",
      "source": [
        "\n",
        "%%shell\n",
        "jupyter nbconvert --to html /content/Lab4Curvefitting_Harry.ipynb"
      ],
      "metadata": {
        "id": "6yi_9Ilr5OMC",
        "colab": {
          "base_uri": "https://localhost:8080/"
        },
        "outputId": "c5174c45-7fa6-4989-bf92-2ed91b1ea3ca"
      },
      "execution_count": null,
      "outputs": [
        {
          "output_type": "stream",
          "name": "stdout",
          "text": [
            "[NbConvertApp] Converting notebook /content/Lab4Curvefitting_Harry.ipynb to html\n",
            "[NbConvertApp] Writing 646342 bytes to /content/Lab4Curvefitting_Harry.html\n"
          ]
        },
        {
          "output_type": "execute_result",
          "data": {
            "text/plain": []
          },
          "metadata": {},
          "execution_count": 14
        }
      ]
    },
    {
      "cell_type": "code",
      "source": [],
      "metadata": {
        "id": "1i7PPWeRGArc"
      },
      "execution_count": null,
      "outputs": []
    }
  ]
}