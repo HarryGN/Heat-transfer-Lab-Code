{
  "nbformat": 4,
  "nbformat_minor": 0,
  "metadata": {
    "colab": {
      "provenance": [],
      "authorship_tag": "ABX9TyOZrInEMXlirlKAC/Zo2rPb",
      "include_colab_link": true
    },
    "kernelspec": {
      "name": "python3",
      "display_name": "Python 3"
    },
    "language_info": {
      "name": "python"
    }
  },
  "cells": [
    {
      "cell_type": "markdown",
      "metadata": {
        "id": "view-in-github",
        "colab_type": "text"
      },
      "source": [
        "<a href=\"https://colab.research.google.com/github/HarryGN/Heat-transfer-Lab-Code/blob/main/Lab2Curvefitting_Harry.ipynb\" target=\"_parent\"><img src=\"https://colab.research.google.com/assets/colab-badge.svg\" alt=\"Open In Colab\"/></a>"
      ]
    },
    {
      "cell_type": "markdown",
      "source": [
        "\n",
        "\n",
        "```\n",
        "# This is the code for the lumped capacity model curve-fitting for the heat coefficient for the block without insulation. tested h_ss is not the final value, I will perform h_ss by hand in the doc.\n",
        "```\n",
        "\n"
      ],
      "metadata": {
        "id": "CwBfQoqb0_Hb"
      }
    },
    {
      "cell_type": "code",
      "source": [],
      "metadata": {
        "id": "JgVZeqiM2T5Y"
      },
      "execution_count": null,
      "outputs": []
    },
    {
      "cell_type": "code",
      "execution_count": null,
      "metadata": {
        "id": "t-O8t0_VSE49"
      },
      "outputs": [],
      "source": [
        "import numpy as np \n",
        "import matplotlib.pyplot as plt \n",
        "from scipy.optimize import curve_fit\n",
        "import pandas as pd\n",
        "import math"
      ]
    },
    {
      "cell_type": "code",
      "source": [
        "data = pd.read_csv('/content/313Lab2.csv',encoding=\"ISO-8859-1\")\n",
        "\n",
        "print(data)"
      ],
      "metadata": {
        "colab": {
          "base_uri": "https://localhost:8080/"
        },
        "id": "k-VwYO4vYb7_",
        "outputId": "72db2486-1a4b-46ba-f98c-30143d077e6d"
      },
      "execution_count": null,
      "outputs": [
        {
          "output_type": "stream",
          "name": "stdout",
          "text": [
            "    Time (min)  Temp(¡C)  Ambnient Air Temperature  Applied Voltage:   \\\n",
            "0          0.0      20.5                      83.1               24.0   \n",
            "1          0.5      23.7                       NaN                NaN   \n",
            "2          1.0      27.7                       NaN                NaN   \n",
            "3          1.5      31.5                       NaN                NaN   \n",
            "4          2.0      35.0                       NaN                NaN   \n",
            "5          2.5      38.5                       NaN                NaN   \n",
            "6          3.0      41.9                       NaN                NaN   \n",
            "7          3.5      45.5                       NaN                NaN   \n",
            "8          4.0      48.2                       NaN                NaN   \n",
            "9          4.5      51.6                       NaN                NaN   \n",
            "10         5.0      54.9                       NaN                NaN   \n",
            "11         6.0      60.5                       NaN                NaN   \n",
            "12         7.0      70.5                       NaN                NaN   \n",
            "13         8.0      75.2                       NaN                NaN   \n",
            "14         9.0      79.4                       NaN                NaN   \n",
            "15        10.0      83.4                       NaN                NaN   \n",
            "16        11.0      87.5                       NaN                NaN   \n",
            "17        12.0      90.3                       NaN                NaN   \n",
            "18        13.0      93.6                       NaN                NaN   \n",
            "19        14.0      96.3                       NaN                NaN   \n",
            "20        15.0      98.9                       NaN                NaN   \n",
            "21        16.0     101.6                       NaN                NaN   \n",
            "22        17.0     104.0                       NaN                NaN   \n",
            "23        18.0     106.1                       NaN                NaN   \n",
            "24        19.0     107.8                       NaN                NaN   \n",
            "25        20.0     107.1                       NaN                NaN   \n",
            "26        22.0     108.9                       NaN                NaN   \n",
            "27        24.0     111.6                       NaN                NaN   \n",
            "28        26.0     114.2                       NaN                NaN   \n",
            "29        28.0     117.0                       NaN                NaN   \n",
            "30        30.0     118.0                       NaN                NaN   \n",
            "31        35.0     121.8                       NaN                NaN   \n",
            "32        40.0     123.3                       NaN                NaN   \n",
            "33        45.0     124.5                       NaN                NaN   \n",
            "\n",
            "    Heater Resistance:  \n",
            "0                 83.1  \n",
            "1                  NaN  \n",
            "2                  NaN  \n",
            "3                  NaN  \n",
            "4                  NaN  \n",
            "5                  NaN  \n",
            "6                  NaN  \n",
            "7                  NaN  \n",
            "8                  NaN  \n",
            "9                  NaN  \n",
            "10                 NaN  \n",
            "11                 NaN  \n",
            "12                 NaN  \n",
            "13                 NaN  \n",
            "14                 NaN  \n",
            "15                 NaN  \n",
            "16                 NaN  \n",
            "17                 NaN  \n",
            "18                 NaN  \n",
            "19                 NaN  \n",
            "20                 NaN  \n",
            "21                 NaN  \n",
            "22                 NaN  \n",
            "23                 NaN  \n",
            "24                 NaN  \n",
            "25                 NaN  \n",
            "26                 NaN  \n",
            "27                 NaN  \n",
            "28                 NaN  \n",
            "29                 NaN  \n",
            "30                 NaN  \n",
            "31                 NaN  \n",
            "32                 NaN  \n",
            "33                 NaN  \n"
          ]
        }
      ]
    },
    {
      "cell_type": "code",
      "source": [
        "xdata = data[data.columns[0]] * 60\n",
        "print(xdata)"
      ],
      "metadata": {
        "colab": {
          "base_uri": "https://localhost:8080/"
        },
        "id": "8KpB0vypZ6cJ",
        "outputId": "4f0fe09f-3345-49c9-bdf5-312d9d19ee93"
      },
      "execution_count": 59,
      "outputs": [
        {
          "output_type": "stream",
          "name": "stdout",
          "text": [
            "0        0.0\n",
            "1       30.0\n",
            "2       60.0\n",
            "3       90.0\n",
            "4      120.0\n",
            "5      150.0\n",
            "6      180.0\n",
            "7      210.0\n",
            "8      240.0\n",
            "9      270.0\n",
            "10     300.0\n",
            "11     360.0\n",
            "12     420.0\n",
            "13     480.0\n",
            "14     540.0\n",
            "15     600.0\n",
            "16     660.0\n",
            "17     720.0\n",
            "18     780.0\n",
            "19     840.0\n",
            "20     900.0\n",
            "21     960.0\n",
            "22    1020.0\n",
            "23    1080.0\n",
            "24    1140.0\n",
            "25    1200.0\n",
            "26    1320.0\n",
            "27    1440.0\n",
            "28    1560.0\n",
            "29    1680.0\n",
            "30    1800.0\n",
            "31    2100.0\n",
            "32    2400.0\n",
            "33    2700.0\n",
            "Name: Time (min), dtype: float64\n"
          ]
        }
      ]
    },
    {
      "cell_type": "code",
      "source": [
        "ydata = data[data.columns[1]]\n",
        "print(ydata)"
      ],
      "metadata": {
        "colab": {
          "base_uri": "https://localhost:8080/"
        },
        "id": "m_7YDpLYaVqB",
        "outputId": "af2d60b1-0c07-44a6-b5be-5f169c1d9454"
      },
      "execution_count": null,
      "outputs": [
        {
          "output_type": "stream",
          "name": "stdout",
          "text": [
            "0      20.5\n",
            "1      23.7\n",
            "2      27.7\n",
            "3      31.5\n",
            "4      35.0\n",
            "5      38.5\n",
            "6      41.9\n",
            "7      45.5\n",
            "8      48.2\n",
            "9      51.6\n",
            "10     54.9\n",
            "11     60.5\n",
            "12     70.5\n",
            "13     75.2\n",
            "14     79.4\n",
            "15     83.4\n",
            "16     87.5\n",
            "17     90.3\n",
            "18     93.6\n",
            "19     96.3\n",
            "20     98.9\n",
            "21    101.6\n",
            "22    104.0\n",
            "23    106.1\n",
            "24    107.8\n",
            "25    107.1\n",
            "26    108.9\n",
            "27    111.6\n",
            "28    114.2\n",
            "29    117.0\n",
            "30    118.0\n",
            "31    121.8\n",
            "32    123.3\n",
            "33    124.5\n",
            "Name: Temp(¡C), dtype: float64\n"
          ]
        }
      ]
    },
    {
      "cell_type": "code",
      "source": [
        "# Plot the data\n",
        "plt.scatter(xdata, ydata, label='data')"
      ],
      "metadata": {
        "colab": {
          "base_uri": "https://localhost:8080/",
          "height": 283
        },
        "id": "oJyB574vqy7t",
        "outputId": "8b47e222-bfe5-48cd-e3c1-6f2e32d49e96"
      },
      "execution_count": null,
      "outputs": [
        {
          "output_type": "execute_result",
          "data": {
            "text/plain": [
              "<matplotlib.collections.PathCollection at 0x7f96c2c22400>"
            ]
          },
          "metadata": {},
          "execution_count": 30
        },
        {
          "output_type": "display_data",
          "data": {
            "text/plain": [
              "<Figure size 432x288 with 1 Axes>"
            ],
            "image/png": "[encoded data removed]"
          },
          "metadata": {
            "needs_background": "light"
          }
        }
      ]
    },
    {
      "cell_type": "code",
      "source": [
        "# ##Debug Steps give all values\n",
        "# #surface area of the block\n",
        "# As = (2 * math.pow(0.04, 2)) + (4 * 0.01 * 0.04)\n",
        "\n",
        "# #power generated V^2/R\n",
        "# P = math.pow(24, 2)/83.1\n",
        "\n",
        "# #volumn of the block\n",
        "# V = 0.04 * 0.04 * 0.01\n",
        "\n",
        "# #density of al\n",
        "# rho = 2700\n",
        "\n",
        "\n",
        "# #specific heat of al\n",
        "# Cp = 0.901 * 1000\n",
        "\n",
        "# print('As = ',As)\n",
        "# print('Power = ',P)\n",
        "\n",
        "# #coeficients \n",
        "# print(P/(As))\n",
        "# print(-(As)/(rho*V*Cp))"
      ],
      "metadata": {
        "colab": {
          "base_uri": "https://localhost:8080/"
        },
        "id": "3OS_gHs_t_oO",
        "outputId": "d2649004-f9a2-49d4-904c-3cc2fa87fefd"
      },
      "execution_count": 51,
      "outputs": [
        {
          "output_type": "stream",
          "name": "stdout",
          "text": [
            "As =  0.0048000000000000004\n",
            "Power =  6.931407942238268\n",
            "1444.043321299639\n",
            "-0.12331976815883583\n"
          ]
        }
      ]
    },
    {
      "cell_type": "code",
      "source": [
        "# Define the function\n",
        "def func(t, h):\n",
        "  #surface area of the block\n",
        "  As = (2 * 0.04 ** 2) + (4 * 0.01 * 0.04)\n",
        "\n",
        "  #power generated V^2/R\n",
        "  P = 24 ** 2/83.1\n",
        "\n",
        "  #volumn of the block\n",
        "  V = 0.04 * 0.04 * 0.01\n",
        "\n",
        "  #density of al\n",
        "  rho = 2700\n",
        "\n",
        "  #specific heat of al\n",
        "  Cp = 0.901 *1000\n",
        "  return 20 + (P/(As*h))*(1-np.exp((-(As)/(rho*V*Cp))*h*t))\n",
        "\n",
        "\n",
        "# xdata = np.linspace(0, 4, 50)\n",
        "# y = func (xdata, 2.5, 1.3, 0.5)\n",
        "\n",
        "# '''\n",
        "# Generate some data by adding noise to the function output for the purpose of this example\n",
        "# '''\n",
        "\n",
        "# y_noise = 0.2 * np.random.normal (size=xdata.size)\n",
        "# ydata = y + y_noise\n",
        "\n",
        "\n",
        "# Plot the data\n",
        "plt.scatter(xdata, ydata, label='data')\n",
        "\n",
        "\n",
        "# Fit for the parameters h of the function func:\n",
        "popt, pcov = curve_fit(func, xdata, ydata)\n",
        "\n",
        "h = popt\n",
        "plt.plot(xdata, func (xdata,*popt), 'r-',\n",
        "         label='fit: h_bestfit=%5.3f' % tuple(popt))\n",
        "\n",
        "# '''\n",
        "# Constrain the fitting to the region of 0 <= h <= 50:\n",
        "# '''\n",
        "\n",
        "# popt, pcov = curve_fit(func, xdata, ydata, bounds=(0, 50. ))\n",
        "# popt\n",
        "\n",
        "h_ss = 14\n",
        "plt.plot(xdata, func (xdata, h_ss),'g--',\n",
        "         label='fit: h_ss=14')\n",
        "\n",
        "plt.xlabel('Time (s)')\n",
        "plt.ylabel('Temp °C')\n",
        "plt.legend(fontsize= 16)"
      ],
      "metadata": {
        "colab": {
          "base_uri": "https://localhost:8080/",
          "height": 297
        },
        "id": "d9igvu7BTkFD",
        "outputId": "1c2fc7d9-5167-4769-f23f-b7b258e6783f"
      },
      "execution_count": 63,
      "outputs": [
        {
          "output_type": "execute_result",
          "data": {
            "text/plain": [
              "<matplotlib.legend.Legend at 0x7f96c24913a0>"
            ]
          },
          "metadata": {},
          "execution_count": 63
        },
        {
          "output_type": "display_data",
          "data": {
            "text/plain": [
              "<Figure size 432x288 with 1 Axes>"
            ],
            "image/png": "[encoded data removed]"
          },
          "metadata": {
            "needs_background": "light"
          }
        }
      ]
    }
  ]
}