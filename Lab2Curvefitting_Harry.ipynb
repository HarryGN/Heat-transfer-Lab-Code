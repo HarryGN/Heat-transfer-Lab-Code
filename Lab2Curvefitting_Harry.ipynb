{
  "nbformat": 4,
  "nbformat_minor": 0,
  "metadata": {
    "colab": {
      "provenance": [],
      "authorship_tag": "ABX9TyN/ETOU5W7gxJgwGMGwe9zr",
      "include_colab_link": true
    },
    "kernelspec": {
      "name": "python3",
      "display_name": "Python 3"
    },
    "language_info": {
      "name": "python"
    }
  },
  "cells": [
    {
      "cell_type": "markdown",
      "metadata": {
        "id": "view-in-github",
        "colab_type": "text"
      },
      "source": [
        "<a href=\"https://colab.research.google.com/github/HarryGN/Heat-transfer-Lab-Code/blob/main/Lab2Curvefitting_Harry.ipynb\" target=\"_parent\"><img src=\"https://colab.research.google.com/assets/colab-badge.svg\" alt=\"Open In Colab\"/></a>"
      ]
    },
    {
      "cell_type": "markdown",
      "source": [
        "\n",
        "\n",
        "```\n",
        "# This is the code for the lumped capacity model curve-fitting for the heat coefficient for the block without insulation. tested h_ss is not the final value, I will perform h_ss by hand in the doc.\n",
        "```\n",
        "\n"
      ],
      "metadata": {
        "id": "CwBfQoqb0_Hb"
      }
    },
    {
      "cell_type": "code",
      "source": [],
      "metadata": {
        "id": "JgVZeqiM2T5Y"
      },
      "execution_count": 1,
      "outputs": []
    },
    {
      "cell_type": "code",
      "execution_count": 2,
      "metadata": {
        "id": "t-O8t0_VSE49"
      },
      "outputs": [],
      "source": [
        "import numpy as np \n",
        "import matplotlib.pyplot as plt \n",
        "from scipy.optimize import curve_fit\n",
        "import pandas as pd\n",
        "import math"
      ]
    },
    {
      "cell_type": "code",
      "source": [
        "data = pd.read_csv('/content/313Lab2.csv',encoding=\"ISO-8859-1\")\n",
        "\n",
        "print(data)"
      ],
      "metadata": {
        "colab": {
          "base_uri": "https://localhost:8080/"
        },
        "id": "k-VwYO4vYb7_",
        "outputId": "886cff44-2c9c-4c5f-ba58-4a05277814ca"
      },
      "execution_count": 3,
      "outputs": [
        {
          "output_type": "stream",
          "name": "stdout",
          "text": [
            "    Time [min]  Temp [_]\n",
            "0          0.0      20.3\n",
            "1          0.5      23.7\n",
            "2          1.0      27.7\n",
            "3          1.5      31.5\n",
            "4          2.0      35.0\n",
            "5          2.5      38.5\n",
            "6          3.0      41.9\n",
            "7          3.5      45.5\n",
            "8          4.0      48.2\n",
            "9          4.5      51.6\n",
            "10         5.0      54.9\n",
            "11         6.0      60.5\n",
            "12         7.0      65.0\n",
            "13         8.0      70.4\n",
            "14         9.0      75.2\n",
            "15        10.0      79.4\n",
            "16        11.0      83.4\n",
            "17        12.0      87.5\n",
            "18        13.0      90.3\n",
            "19        14.0      93.6\n",
            "20        15.0      96.3\n",
            "21        16.0      98.9\n",
            "22        17.0     101.6\n",
            "23        18.0     104.0\n",
            "24        19.0     106.1\n",
            "25        20.0     107.8\n",
            "26        22.0     108.9\n",
            "27        23.0     107.8\n",
            "28        24.0     107.1\n",
            "29        26.0     108.9\n"
          ]
        }
      ]
    },
    {
      "cell_type": "code",
      "source": [
        "xdata = data[data.columns[0]] * 60\n",
        "print(xdata)"
      ],
      "metadata": {
        "colab": {
          "base_uri": "https://localhost:8080/"
        },
        "id": "8KpB0vypZ6cJ",
        "outputId": "b95d086e-aa22-404c-b23a-04afe24d6a71"
      },
      "execution_count": 4,
      "outputs": [
        {
          "output_type": "stream",
          "name": "stdout",
          "text": [
            "0        0.0\n",
            "1       30.0\n",
            "2       60.0\n",
            "3       90.0\n",
            "4      120.0\n",
            "5      150.0\n",
            "6      180.0\n",
            "7      210.0\n",
            "8      240.0\n",
            "9      270.0\n",
            "10     300.0\n",
            "11     360.0\n",
            "12     420.0\n",
            "13     480.0\n",
            "14     540.0\n",
            "15     600.0\n",
            "16     660.0\n",
            "17     720.0\n",
            "18     780.0\n",
            "19     840.0\n",
            "20     900.0\n",
            "21     960.0\n",
            "22    1020.0\n",
            "23    1080.0\n",
            "24    1140.0\n",
            "25    1200.0\n",
            "26    1320.0\n",
            "27    1380.0\n",
            "28    1440.0\n",
            "29    1560.0\n",
            "Name: Time [min], dtype: float64\n"
          ]
        }
      ]
    },
    {
      "cell_type": "code",
      "source": [
        "ydata = data[data.columns[1]]\n",
        "print(ydata)"
      ],
      "metadata": {
        "colab": {
          "base_uri": "https://localhost:8080/"
        },
        "id": "m_7YDpLYaVqB",
        "outputId": "eb3e6928-2908-4680-811a-06022589ce04"
      },
      "execution_count": 5,
      "outputs": [
        {
          "output_type": "stream",
          "name": "stdout",
          "text": [
            "0      20.3\n",
            "1      23.7\n",
            "2      27.7\n",
            "3      31.5\n",
            "4      35.0\n",
            "5      38.5\n",
            "6      41.9\n",
            "7      45.5\n",
            "8      48.2\n",
            "9      51.6\n",
            "10     54.9\n",
            "11     60.5\n",
            "12     65.0\n",
            "13     70.4\n",
            "14     75.2\n",
            "15     79.4\n",
            "16     83.4\n",
            "17     87.5\n",
            "18     90.3\n",
            "19     93.6\n",
            "20     96.3\n",
            "21     98.9\n",
            "22    101.6\n",
            "23    104.0\n",
            "24    106.1\n",
            "25    107.8\n",
            "26    108.9\n",
            "27    107.8\n",
            "28    107.1\n",
            "29    108.9\n",
            "Name: Temp [_], dtype: float64\n"
          ]
        }
      ]
    },
    {
      "cell_type": "code",
      "source": [
        "# Plot the data\n",
        "plt.scatter(xdata, ydata, label='data')"
      ],
      "metadata": {
        "colab": {
          "base_uri": "https://localhost:8080/",
          "height": 283
        },
        "id": "oJyB574vqy7t",
        "outputId": "b37f4172-c3ce-4e08-b34c-384c098092f0"
      },
      "execution_count": 6,
      "outputs": [
        {
          "output_type": "execute_result",
          "data": {
            "text/plain": [
              "<matplotlib.collections.PathCollection at 0x7f09555b4eb0>"
            ]
          },
          "metadata": {},
          "execution_count": 6
        },
        {
          "output_type": "display_data",
          "data": {
            "text/plain": [
              "<Figure size 432x288 with 1 Axes>"
            ],
            "image/png": "[encoded data removed]"
          },
          "metadata": {
            "needs_background": "light"
          }
        }
      ]
    },
    {
      "cell_type": "code",
      "source": [
        "##Debug Steps give all values\n",
        "#surface area of the block\n",
        "As = (2 * math.pow(0.04, 2))\n",
        "\n",
        "#power generated V^2/R\n",
        "P = math.pow(24, 2)/83.1\n",
        "\n",
        "#volumn of the block\n",
        "V = 0.04 * 0.04 * 0.01\n",
        "\n",
        "#density of al\n",
        "rho = 2700\n",
        "\n",
        "\n",
        "#specific heat of al\n",
        "Cp = 0.901 * 1000\n",
        "\n",
        "print('As = ',As)\n",
        "print('Power = ',P)\n",
        "\n",
        "#coeficients \n",
        "print(P/(As))\n",
        "print(-(As)/(rho*V*Cp))"
      ],
      "metadata": {
        "colab": {
          "base_uri": "https://localhost:8080/"
        },
        "id": "3OS_gHs_t_oO",
        "outputId": "303ffbad-c4e1-47d7-9206-df8dfd727ee3"
      },
      "execution_count": 7,
      "outputs": [
        {
          "output_type": "stream",
          "name": "stdout",
          "text": [
            "As =  0.0032\n",
            "Power =  6.931407942238268\n",
            "2166.064981949459\n",
            "-8.221317877255723e-05\n"
          ]
        }
      ]
    },
    {
      "cell_type": "code",
      "source": [
        "# Define the function\n",
        "def func(t, h):\n",
        "  #surface area of the block\n",
        "  As = (2 * 0.04 ** 2) \n",
        "\n",
        "  #power generated V^2/R\n",
        "  P = 24 ** 2/83.1\n",
        "\n",
        "  #volumn of the block\n",
        "  V = 0.04 * 0.04 * 0.01\n",
        "\n",
        "  #density of al\n",
        "  rho = 2700\n",
        "\n",
        "  #specific heat of al\n",
        "  Cp = 0.901 *1000\n",
        "  return 20 + (P/(As*h))*(1-np.exp((-(As)/(rho*V*Cp))*h*t))\n",
        "\n",
        "\n",
        "# xdata = np.linspace(0, 4, 50)\n",
        "# y = func (xdata, 2.5, 1.3, 0.5)\n",
        "\n",
        "# '''\n",
        "# Generate some data by adding noise to the function output for the purpose of this example\n",
        "# '''\n",
        "\n",
        "# y_noise = 0.2 * np.random.normal (size=xdata.size)\n",
        "# ydata = y + y_noise\n",
        "\n",
        "\n",
        "# Plot the data\n",
        "plt.scatter(xdata, ydata, label='data')\n",
        "\n",
        "\n",
        "# Fit for the parameters h of the function func:\n",
        "popt, pcov = curve_fit(func, xdata, ydata)\n",
        "\n",
        "h = popt\n",
        "plt.plot(xdata, func (xdata,*popt), 'r-',\n",
        "         label='fit: h_bestfit=%5.3f' % tuple(popt))\n",
        "\n",
        "# '''\n",
        "# Constrain the fitting to the region of 0 <= h <= 50:\n",
        "# '''\n",
        "\n",
        "# popt, pcov = curve_fit(func, xdata, ydata, bounds=(0, 50. ))\n",
        "# popt\n",
        "\n",
        "h_ss = 24.37\n",
        "plt.plot(xdata, func (xdata, h_ss),'g--',\n",
        "         label='fit: h_ss=24.37')\n",
        "\n",
        "plt.xlabel('Time (s)')\n",
        "plt.ylabel('Temp °C')\n",
        "plt.legend(fontsize= 16)"
      ],
      "metadata": {
        "colab": {
          "base_uri": "https://localhost:8080/",
          "height": 297
        },
        "id": "d9igvu7BTkFD",
        "outputId": "6cbf5b10-0ebd-48a9-deb4-0d5ba8a6bc3a"
      },
      "execution_count": 12,
      "outputs": [
        {
          "output_type": "execute_result",
          "data": {
            "text/plain": [
              "<matplotlib.legend.Legend at 0x7f0951f19b20>"
            ]
          },
          "metadata": {},
          "execution_count": 12
        },
        {
          "output_type": "display_data",
          "data": {
            "text/plain": [
              "<Figure size 432x288 with 1 Axes>"
            ],
            "image/png": "[encoded data removed]"
          },
          "metadata": {
            "needs_background": "light"
          }
        }
      ]
    },
    {
      "cell_type": "code",
      "source": [],
      "metadata": {
        "id": "9jRH0EnJO6_Q"
      },
      "execution_count": 8,
      "outputs": []
    },
    {
      "cell_type": "code",
      "source": [
        "#convert to html\n",
        "%%shell\n",
        "jupyter nbconvert --to html /content/Lab2Curvefitting_Harry.ipynb"
      ],
      "metadata": {
        "id": "6yi_9Ilr5OMC"
      },
      "execution_count": null,
      "outputs": []
    }
  ]
}